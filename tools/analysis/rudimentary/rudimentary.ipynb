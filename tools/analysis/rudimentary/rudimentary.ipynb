{
 "cells": [
  {
   "cell_type": "code",
   "execution_count": 2,
   "metadata": {
    "collapsed": true,
    "pycharm": {
     "is_executing": false
    }
   },
   "outputs": [
    {
     "name": "stdout",
     "text": [
      "ALL\n",
      "Users: 1611\n",
      "#DE ratings: 73463\n",
      "#RE ratings: 88483\n",
      "#DEs: 6461 (46.93106704438149)\n",
      "#REs: 4869 (98.56275303643724)\n",
      "DE density: 0.705786550463551\n",
      "RE density: 1.1280400624225597\n",
      "\n",
      "BIN\n",
      "Users: 1611\n",
      "#DE ratings: 40623\n",
      "#RE ratings: 36621\n",
      "#DEs: 2963 (21.5224812958524)\n",
      "#REs: 3571 (72.28744939271256)\n",
      "DE density: 0.8510298649199846\n",
      "RE density: 0.6365680082727245\n"
     ],
     "output_type": "stream"
    }
   ],
   "source": [
    "total_res = 4940\n",
    "total_des = 13767\n",
    "\n",
    "import pandas as pd \n",
    "def print_statistics(df):\n",
    "    res = df[df.isItem]\n",
    "    des = df[~df.isItem]\n",
    "    \n",
    "    n_res = len(res.uri.unique())\n",
    "    n_des = len(des.uri.unique())\n",
    "    \n",
    "    n_re_ratings = len(res)\n",
    "    n_de_ratings = len(des)\n",
    "    \n",
    "    n_users = len(df.userId.unique())\n",
    "\n",
    "    print(f'Users: {n_users}')    \n",
    "    \n",
    "    print(f'#DE ratings: {n_de_ratings}')\n",
    "    print(f'#RE ratings: {n_re_ratings}')\n",
    "    \n",
    "    print(f'#DEs: {n_des} ({(n_des / total_des) * 100})')\n",
    "    print(f'#REs: {n_res} ({(n_res / total_res) * 100})')\n",
    "    \n",
    "    print(f'DE density: {(n_de_ratings / (n_users * n_des)) * 100}')\n",
    "    print(f'RE density: {(n_re_ratings / (n_users * n_res)) * 100}')\n",
    "\n",
    "ratings = pd.read_csv('../../../debug/sources_170k/ratings.csv')\n",
    "\n",
    "print('ALL')\n",
    "print_statistics(ratings)\n",
    "print()\n",
    "\n",
    "print('BIN')\n",
    "print_statistics(ratings[ratings.sentiment != 0])\n"
   ]
  }
 ],
 "metadata": {
  "kernelspec": {
   "display_name": "Python 3",
   "language": "python",
   "name": "python3"
  },
  "language_info": {
   "codemirror_mode": {
    "name": "ipython",
    "version": 2
   },
   "file_extension": ".py",
   "mimetype": "text/x-python",
   "name": "python",
   "nbconvert_exporter": "python",
   "pygments_lexer": "ipython2",
   "version": "2.7.6"
  },
  "pycharm": {
   "stem_cell": {
    "cell_type": "raw",
    "source": [],
    "metadata": {
     "collapsed": false
    }
   }
  }
 },
 "nbformat": 4,
 "nbformat_minor": 0
}