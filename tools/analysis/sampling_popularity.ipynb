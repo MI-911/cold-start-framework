{
 "cells": [
  {
   "cell_type": "code",
   "execution_count": 1,
   "metadata": {
    "collapsed": true,
    "pycharm": {
     "is_executing": false
    }
   },
   "outputs": [
    {
     "traceback": [
      "\u001b[0;31m---------------------------------------------------------------------------\u001b[0m",
      "\u001b[0;31mFileNotFoundError\u001b[0m                         Traceback (most recent call last)",
      "\u001b[0;32m<ipython-input-1-ec101cc6f0b9>\u001b[0m in \u001b[0;36m<module>\u001b[0;34m\u001b[0m\n\u001b[1;32m     13\u001b[0m \u001b[0mentity_ratings\u001b[0m \u001b[0;34m=\u001b[0m \u001b[0mdict\u001b[0m\u001b[0;34m(\u001b[0m\u001b[0;34m)\u001b[0m\u001b[0;34m\u001b[0m\u001b[0;34m\u001b[0m\u001b[0m\n\u001b[1;32m     14\u001b[0m \u001b[0;34m\u001b[0m\u001b[0m\n\u001b[0;32m---> 15\u001b[0;31m \u001b[0;32mfor\u001b[0m \u001b[0muser\u001b[0m\u001b[0;34m,\u001b[0m \u001b[0mratings\u001b[0m \u001b[0;32min\u001b[0m \u001b[0mdata_loader\u001b[0m\u001b[0;34m.\u001b[0m\u001b[0mtraining\u001b[0m\u001b[0;34m(\u001b[0m\u001b[0;34m)\u001b[0m\u001b[0;34m.\u001b[0m\u001b[0mitems\u001b[0m\u001b[0;34m(\u001b[0m\u001b[0;34m)\u001b[0m\u001b[0;34m:\u001b[0m\u001b[0;34m\u001b[0m\u001b[0;34m\u001b[0m\u001b[0m\n\u001b[0m\u001b[1;32m     16\u001b[0m     \u001b[0;32mfor\u001b[0m \u001b[0mitem\u001b[0m\u001b[0;34m,\u001b[0m \u001b[0mrating\u001b[0m \u001b[0;32min\u001b[0m \u001b[0mratings\u001b[0m\u001b[0;34m.\u001b[0m\u001b[0mtraining\u001b[0m\u001b[0;34m.\u001b[0m\u001b[0mitems\u001b[0m\u001b[0;34m(\u001b[0m\u001b[0;34m)\u001b[0m\u001b[0;34m:\u001b[0m\u001b[0;34m\u001b[0m\u001b[0;34m\u001b[0m\u001b[0m\n\u001b[1;32m     17\u001b[0m         \u001b[0mentity_ratings\u001b[0m\u001b[0;34m[\u001b[0m\u001b[0mitem\u001b[0m\u001b[0;34m]\u001b[0m \u001b[0;34m=\u001b[0m \u001b[0mentity_ratings\u001b[0m\u001b[0;34m.\u001b[0m\u001b[0mget\u001b[0m\u001b[0;34m(\u001b[0m\u001b[0mitem\u001b[0m\u001b[0;34m,\u001b[0m \u001b[0;36m0\u001b[0m\u001b[0;34m)\u001b[0m \u001b[0;34m+\u001b[0m \u001b[0;36m1\u001b[0m\u001b[0;34m\u001b[0m\u001b[0;34m\u001b[0m\u001b[0m\n",
      "\u001b[0;32m~/Projects/mi911/cold-start-framework/experiments/data_loader.py\u001b[0m in \u001b[0;36mtraining\u001b[0;34m(self)\u001b[0m\n\u001b[1;32m     16\u001b[0m \u001b[0;34m\u001b[0m\u001b[0m\n\u001b[1;32m     17\u001b[0m     \u001b[0;32mdef\u001b[0m \u001b[0mtraining\u001b[0m\u001b[0;34m(\u001b[0m\u001b[0mself\u001b[0m\u001b[0;34m)\u001b[0m \u001b[0;34m->\u001b[0m \u001b[0mDict\u001b[0m\u001b[0;34m[\u001b[0m\u001b[0mint\u001b[0m\u001b[0;34m,\u001b[0m \u001b[0mWarmStartUser\u001b[0m\u001b[0;34m]\u001b[0m\u001b[0;34m:\u001b[0m\u001b[0;34m\u001b[0m\u001b[0;34m\u001b[0m\u001b[0m\n\u001b[0;32m---> 18\u001b[0;31m         \u001b[0;32mreturn\u001b[0m \u001b[0mself\u001b[0m\u001b[0;34m.\u001b[0m\u001b[0m_load\u001b[0m\u001b[0;34m(\u001b[0m\u001b[0;34m'training.pkl'\u001b[0m\u001b[0;34m)\u001b[0m\u001b[0;34m\u001b[0m\u001b[0;34m\u001b[0m\u001b[0m\n\u001b[0m\u001b[1;32m     19\u001b[0m \u001b[0;34m\u001b[0m\u001b[0m\n\u001b[1;32m     20\u001b[0m     \u001b[0;32mdef\u001b[0m \u001b[0mtesting\u001b[0m\u001b[0;34m(\u001b[0m\u001b[0mself\u001b[0m\u001b[0;34m)\u001b[0m \u001b[0;34m->\u001b[0m \u001b[0mDict\u001b[0m\u001b[0;34m[\u001b[0m\u001b[0mint\u001b[0m\u001b[0;34m,\u001b[0m \u001b[0mColdStartUser\u001b[0m\u001b[0;34m]\u001b[0m\u001b[0;34m:\u001b[0m\u001b[0;34m\u001b[0m\u001b[0;34m\u001b[0m\u001b[0m\n",
      "\u001b[0;32m~/Projects/mi911/cold-start-framework/experiments/data_loader.py\u001b[0m in \u001b[0;36m_load\u001b[0;34m(self, file)\u001b[0m\n\u001b[1;32m     12\u001b[0m \u001b[0;34m\u001b[0m\u001b[0m\n\u001b[1;32m     13\u001b[0m     \u001b[0;32mdef\u001b[0m \u001b[0m_load\u001b[0m\u001b[0;34m(\u001b[0m\u001b[0mself\u001b[0m\u001b[0;34m,\u001b[0m \u001b[0mfile\u001b[0m\u001b[0;34m)\u001b[0m\u001b[0;34m:\u001b[0m\u001b[0;34m\u001b[0m\u001b[0;34m\u001b[0m\u001b[0m\n\u001b[0;32m---> 14\u001b[0;31m         \u001b[0;32mwith\u001b[0m \u001b[0mopen\u001b[0m\u001b[0;34m(\u001b[0m\u001b[0mos\u001b[0m\u001b[0;34m.\u001b[0m\u001b[0mpath\u001b[0m\u001b[0;34m.\u001b[0m\u001b[0mjoin\u001b[0m\u001b[0;34m(\u001b[0m\u001b[0mself\u001b[0m\u001b[0;34m.\u001b[0m\u001b[0mpath\u001b[0m\u001b[0;34m,\u001b[0m \u001b[0mfile\u001b[0m\u001b[0;34m)\u001b[0m\u001b[0;34m,\u001b[0m \u001b[0;34m'rb'\u001b[0m\u001b[0;34m)\u001b[0m \u001b[0;32mas\u001b[0m \u001b[0mfp\u001b[0m\u001b[0;34m:\u001b[0m\u001b[0;34m\u001b[0m\u001b[0;34m\u001b[0m\u001b[0m\n\u001b[0m\u001b[1;32m     15\u001b[0m             \u001b[0;32mreturn\u001b[0m \u001b[0mpickle\u001b[0m\u001b[0;34m.\u001b[0m\u001b[0mload\u001b[0m\u001b[0;34m(\u001b[0m\u001b[0mfp\u001b[0m\u001b[0;34m)\u001b[0m\u001b[0;34m\u001b[0m\u001b[0;34m\u001b[0m\u001b[0m\n\u001b[1;32m     16\u001b[0m \u001b[0;34m\u001b[0m\u001b[0m\n",
      "\u001b[0;31mFileNotFoundError\u001b[0m: [Errno 2] No such file or directory: '../../data/movielens/split_0/training.pkl'"
     ],
     "ename": "FileNotFoundError",
     "evalue": "[Errno 2] No such file or directory: '../../data/movielens/split_0/training.pkl'",
     "output_type": "error"
    }
   ],
   "source": [
    "# This Notebook is for measuring the popularity of test items\n",
    "from collections import Counter\n",
    "from experiments.data_loader import DataLoader\n",
    "from shared.enums import Sentiment\n",
    "import numpy as np\n",
    "from scipy import stats \n",
    "from matplotlib import pyplot as plt \n",
    "import seaborn as sns\n",
    "\n",
    "\n",
    "data_loader = DataLoader('../../data/movielens/split_0')\n",
    "\n",
    "entity_ratings = dict()\n",
    "\n",
    "for user, ratings in data_loader.training().items():\n",
    "    for item, rating in ratings.training.items():\n",
    "        entity_ratings[item] = entity_ratings.get(item, 0) + 1\n",
    "        pass\n",
    "\n",
    "print(entity_ratings)"
   ]
  },
  {
   "cell_type": "code",
   "execution_count": 110,
   "outputs": [
    {
     "name": "stdout",
     "text": [
      "np.mean(differences)=13.922166575367807\n",
      "DescribeResult(nobs=153, minmax=(2, 212), mean=56.908496732026144, variance=2438.7942036463705, skewness=1.1197721773745033, kurtosis=0.5534471086148738)\n",
      "np.median(positive_ratings)=42.0\n",
      "DescribeResult(nobs=15300, minmax=(1, 212), mean=41.21137254901961, variance=1018.8453115351638, skewness=1.1099991030778964, kurtosis=1.2554382775897714)\n",
      "np.median(unseen_ratings)=33.0\n",
      "34.400000000000006\n",
      "3.0\n"
     ],
     "output_type": "stream"
    },
    {
     "data": {
      "text/plain": "<Figure size 432x288 with 1 Axes>",
      "image/png": "[encoded data removed]"
     },
     "metadata": {
      "needs_background": "light"
     },
     "output_type": "display_data"
    }
   ],
   "source": [
    "# How popular are positive items compared to unseen samples\n",
    "\n",
    "positive_ratings = list()\n",
    "unseen_ratings = list()\n",
    "differences = list()\n",
    "\n",
    "for user, ratings in data_loader.testing().items():\n",
    "    items = set()\n",
    "    for cold_set in ratings.sets:\n",
    "        positive_items = cold_set.ranking.sentiment_samples[Sentiment.POSITIVE]\n",
    "        unseen_items = cold_set.ranking.sentiment_samples[Sentiment.UNSEEN]\n",
    "        \n",
    "        for item in positive_items:\n",
    "            positive_ratings.append(entity_ratings.get(item, 0))\n",
    "            \n",
    "        for item in unseen_items:\n",
    "            unseen_ratings.append(entity_ratings.get(item, 0))\n",
    "            \n",
    "        differences.append(np.mean(positive_ratings) - np.mean(unseen_ratings))\n",
    "\n",
    "print(f'{np.mean(differences)=}')\n",
    "print(stats.describe(positive_ratings))\n",
    "print(f'{np.median(positive_ratings)=}')\n",
    "print(stats.describe(unseen_ratings))\n",
    "print(f'{np.median(unseen_ratings)=}')\n",
    "\n",
    "print(f'{np.percentile(positive_ratings, 45)}')\n",
    "print(f'{np.percentile(unseen_ratings, 3)}')\n",
    "plt.hist([positive_ratings, unseen_ratings], bins=109, label=['Positive', 'Unseen'], density=True)\n",
    "plt.legend(loc='upper right')\n",
    "plt.xlabel('Number of ratings')\n",
    "plt.ylabel('Density')\n",
    "plt.title('MovieLens')\n",
    "plt.savefig('sampling_popularity_bias.pdf', bbox_inches='tight')"
   ],
   "metadata": {
    "collapsed": false,
    "pycharm": {
     "name": "#%%\n",
     "is_executing": false
    }
   }
  },
  {
   "cell_type": "code",
   "execution_count": 111,
   "outputs": [
    {
     "name": "stdout",
     "text": [
      "DescribeResult(nobs=153, minmax=(1, 1), mean=1.0, variance=0.0, skewness=0.0, kurtosis=-3.0)\n"
     ],
     "output_type": "stream"
    }
   ],
   "source": [
    "# How many unique positive samples we have per test user\n",
    "test_ratings = dict()\n",
    "unseen_ratings = dict()\n",
    "lengths = []\n",
    "\n",
    "for user, ratings in data_loader.testing().items():\n",
    "    items = set()\n",
    "    for cold_set in ratings.sets:\n",
    "        positive_items = cold_set.ranking.sentiment_samples[Sentiment.POSITIVE]\n",
    "        \n",
    "        items.update(positive_items)\n",
    "\n",
    "    lengths.append(len(items))\n",
    "\n",
    "print(stats.describe(lengths))"
   ],
   "metadata": {
    "collapsed": false,
    "pycharm": {
     "name": "#%%\n",
     "is_executing": false
    }
   }
  },
  {
   "cell_type": "code",
   "execution_count": 2,
   "outputs": [
    {
     "data": {
      "text/plain": "<Figure size 432x288 with 1 Axes>",
      "image/png": "[encoded data removed]"
     },
     "metadata": {
      "needs_background": "light"
     },
     "output_type": "display_data"
    }
   ],
   "source": [
    "# Comparison of different sampling strategies\n",
    "def dosomething(path):\n",
    "    data_loader = DataLoader(path)\n",
    "    training = data_loader.training()\n",
    "    testing = data_loader.testing()\n",
    "    \n",
    "    train_ratings = []\n",
    "    train_pos_rating = []\n",
    "    for user, warm in training.items():\n",
    "        for entity, rating in warm.training.items():\n",
    "            train_ratings.append(entity)\n",
    "            if rating == 1:\n",
    "                train_pos_rating.append(entity)\n",
    "    \n",
    "    r_train = Counter(train_ratings)\n",
    "    pr_train = Counter(train_pos_rating)\n",
    "    \n",
    "    test_answ_ratings = []\n",
    "    test_pos_answ_ratings = []\n",
    "    test_ratings = []\n",
    "    test_pos_ratings = []\n",
    "    \n",
    "    for user, cold in testing.items():\n",
    "        for set in cold.sets:\n",
    "            for entity, rating in set.answers.items():\n",
    "                test_answ_ratings.append(entity)\n",
    "                if rating == 1:\n",
    "                    test_pos_answ_ratings.append(entity)\n",
    "            for entity in set.ranking.get_seen_samples():\n",
    "                test_pos_ratings.append(entity)\n",
    "            t = set.ranking.get_seen_samples()\n",
    "            for entity in set.ranking.to_list(): \n",
    "                if entity not in set.ranking.get_seen_samples():\n",
    "                    test_ratings.append(entity)\n",
    "                \n",
    "    r_test_ans = Counter(test_answ_ratings)\n",
    "    pr_test_ans = Counter(test_pos_answ_ratings)\n",
    "    r_test = Counter(test_ratings)\n",
    "    pr_test = Counter(test_pos_ratings)\n",
    "    \n",
    "    return r_train, pr_train, r_test_ans, pr_test_ans, r_test, pr_test\n",
    "\n",
    "def cumulative_ratio(ordered_values):\n",
    "    tot = 0\n",
    "    array = np.zeros((len(ordered_values),))\n",
    "    for i, val in enumerate(ordered_values):\n",
    "        tot += val\n",
    "        array[i] = tot\n",
    "        \n",
    "    return array / tot\n",
    "\n",
    "equal_path = '../../data/default_equal_popularity/split_0'\n",
    "res = dosomething(equal_path)\n",
    "\n",
    "r_train, pr_train, r_test_ans, pr_test_ans, r_test, pr_test = [\n",
    "    sorted(r.items(), key=lambda x: x[1], reverse=True) for r in res\n",
    "]\n",
    "\n",
    "\n",
    "\n",
    "_,y1 = zip(*r_train)\n",
    "_,y2 = zip(*r_test)\n",
    "\n",
    "# plt.yscale(\"log\")\n",
    "# plt.show()\n",
    "\n",
    "equal_path = '../../data/default_rec/split_0'\n",
    "res = dosomething(equal_path)\n",
    "\n",
    "r_train, pr_train, r_test_ans, pr_test_ans, r_test, pr_test = [\n",
    "    sorted(r.items(), key=lambda x: x[1], reverse=True) for r in res\n",
    "]\n",
    "\n",
    "_,y3 = zip(*pr_test)\n",
    "_,y4 = zip(*r_test)\n",
    "_,y5 = zip(*r_test_ans)\n",
    "r = min(len(y1), \n",
    "        len(y2), \n",
    "        # len(y3), \n",
    "        len(y4), \n",
    "        # len(y5),\n",
    "        )\n",
    "plt.plot(range(r), cumulative_ratio(y1[:r]), label = \"Train samples\")\n",
    "# plt.plot(range(r), cumulative_ratio(y5[:r]), label= 'Test answer samples')\n",
    "plt.plot(range(r), cumulative_ratio(y2[:r]), label= 'Unseen samples, equal')\n",
    "# plt.plot(range(r), cumulative_ratio(y3[:r]), label = \"Seen samples, uniform\")\n",
    "plt.plot(range(r), cumulative_ratio(y4[:r]), label= 'Unseen samples, random')\n",
    "plt.legend()\n",
    "# plt.yscale('log')\n",
    "plt.xlabel('Entities by popularity rank')\n",
    "plt.ylabel('Cumulative ratio of ratings')\n",
    "plt.grid()\n",
    "plt.savefig('./results/cumulative_sampling.pdf', bbox_inches='tight')\n",
    "plt.show()"
   ],
   "metadata": {
    "collapsed": false,
    "pycharm": {
     "name": "#%%\n",
     "is_executing": false
    }
   }
  }
 ],
 "metadata": {
  "kernelspec": {
   "display_name": "Python 3",
   "language": "python",
   "name": "python3"
  },
  "language_info": {
   "codemirror_mode": {
    "name": "ipython",
    "version": 2
   },
   "file_extension": ".py",
   "mimetype": "text/x-python",
   "name": "python",
   "nbconvert_exporter": "python",
   "pygments_lexer": "ipython2",
   "version": "2.7.6"
  },
  "pycharm": {
   "stem_cell": {
    "cell_type": "raw",
    "source": [],
    "metadata": {
     "collapsed": false
    }
   }
  }
 },
 "nbformat": 4,
 "nbformat_minor": 0
}