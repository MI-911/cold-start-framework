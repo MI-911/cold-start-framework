{
 "cells": [
  {
   "cell_type": "code",
   "execution_count": 3,
   "metadata": {
    "collapsed": true,
    "pycharm": {
     "is_executing": false
    }
   },
   "outputs": [
    {
     "name": "stdout",
     "text": [
      "The autoreload extension is already loaded. To reload it, use:\n",
      "  %reload_ext autoreload\n",
      "Missing entirely from separation ():\n",
      "1. ddpg-ppr-collab-rec\n",
      "2. ddpg-ppr-kg-rec\n",
      "3. dqn-ppr-collab\n",
      "4. dqn-ppr-collab-rec\n",
      "5. dqn-ppr-kg\n",
      "6. dqn-ppr-kg-rec\n",
      "\n",
      "Missing first split:\n",
      "1. ddpg-mf\n",
      "2. ddpg-mf-rec\n",
      "3. ddpg-ppr-collab\n",
      "\n",
      "Missing splits:\n",
      "1. ddpg-knn\n",
      "2. ddpg-knn-rec\n",
      "3. ddpg-ppr-joint\n",
      "4. ddpg-ppr-joint-rec\n",
      "5. fmf\n",
      "6. fmf-rec\n",
      "\n"
     ],
     "output_type": "stream"
    }
   ],
   "source": [
    "%load_ext autoreload\n",
    "%autoreload 2\n",
    "import requests\n",
    "from configurations.models import models\n",
    "from models.dumb.dumb_interviewer import DumbInterviewer\n",
    "\n",
    "def get_cutoff(from_experiment):\n",
    "    return {'separation': 3}.get(from_experiment, 10)\n",
    "\n",
    "def print_missing(missing):\n",
    "    if missing:\n",
    "        for idx, name in enumerate(sorted(missing)):\n",
    "            print(f'{idx + 1}. {name}')\n",
    "    else:\n",
    "        print('Nothing!')\n",
    "    print()\n",
    "\n",
    "model_names = set()\n",
    "# Change prefix to e.g., greedy, ddpg, to show only those interviewers\n",
    "experiment = 'separation'\n",
    "model_prefix = ''\n",
    "num_questions = 10\n",
    "splits = 4\n",
    "\n",
    "data = requests.get(f'https://mindreader.tech/spectate/results/{experiment}/ndcg/{get_cutoff(experiment)}').json()\n",
    "data = {k: v for k, v in data.items() if not 'grid' in k}\n",
    "\n",
    "for model in models:\n",
    "    if not model.startswith(model_prefix):\n",
    "        continue\n",
    "    \n",
    "    model_names.add(model)\n",
    "    \n",
    "    if models[model]['interviewer'] != DumbInterviewer:\n",
    "       model_names.add(f'{model}-rec')\n",
    "\n",
    "existing_models = set(data.keys())\n",
    "\n",
    "print(f'Missing entirely from {experiment} ({model_prefix}):')\n",
    "print_missing(model_names.difference(existing_models))\n",
    "\n",
    "print(f'Missing first split:')\n",
    "print_missing({model for model in existing_models if len(data[model]) < num_questions})\n",
    "\n",
    "print(f'Missing splits:')\n",
    "def results_len(from_model):\n",
    "    return sum([len(split) for split in [question for question in data[from_model]]])\n",
    "\n",
    "print_missing({model for model in existing_models if len(data[model]) == num_questions and results_len(model) < num_questions * splits})"
   ]
  }
 ],
 "metadata": {
  "kernelspec": {
   "display_name": "Python 3",
   "language": "python",
   "name": "python3"
  },
  "language_info": {
   "codemirror_mode": {
    "name": "ipython",
    "version": 2
   },
   "file_extension": ".py",
   "mimetype": "text/x-python",
   "name": "python",
   "nbconvert_exporter": "python",
   "pygments_lexer": "ipython2",
   "version": "2.7.6"
  },
  "pycharm": {
   "stem_cell": {
    "cell_type": "raw",
    "source": [],
    "metadata": {
     "collapsed": false
    }
   }
  }
 },
 "nbformat": 4,
 "nbformat_minor": 0
}