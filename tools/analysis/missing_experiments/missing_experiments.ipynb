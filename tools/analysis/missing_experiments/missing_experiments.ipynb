{
 "cells": [
  {
   "cell_type": "code",
   "execution_count": 19,
   "metadata": {
    "collapsed": true,
    "pycharm": {
     "is_executing": false
    }
   },
   "outputs": [
    {
     "name": "stdout",
     "text": [
      "The autoreload extension is already loaded. To reload it, use:\n",
      "  %reload_ext autoreload\n",
      "Missing entirely from equal (pop):\n",
      "1. pop-knn\n",
      "2. pop-knn-rec\n",
      "3. pop-mf\n",
      "4. pop-mf-rec\n",
      "5. pop-ppr-linear\n",
      "6. pop-ppr-linear-collab\n",
      "7. pop-ppr-linear-collab-rec\n",
      "8. pop-ppr-linear-joint\n",
      "9. pop-ppr-linear-joint-rec\n",
      "10. pop-ppr-linear-kg\n",
      "11. pop-ppr-linear-kg-rec\n",
      "12. pop-ppr-linear-rec\n",
      "\n",
      "Missing first split:\n",
      "1. fmf\n",
      "2. fmf-rec\n",
      "\n",
      "Missing splits:\n",
      "1. greedy-knn\n",
      "\n"
     ],
     "output_type": "stream"
    }
   ],
   "source": [
    "%load_ext autoreload\n",
    "%autoreload 2\n",
    "import requests\n",
    "from configurations.models import models\n",
    "from models.dumb.dumb_interviewer import DumbInterviewer\n",
    "\n",
    "def get_cutoff(from_experiment):\n",
    "    return {'equal': 3}.get(from_experiment, 10)\n",
    "\n",
    "def print_missing(missing):\n",
    "    if missing:\n",
    "        for idx, name in enumerate(sorted(missing)):\n",
    "            print(f'{idx + 1}. {name}')\n",
    "    else:\n",
    "        print('Nothing!')\n",
    "    print()\n",
    "\n",
    "model_names = set()\n",
    "# Change prefix to e.g., greedy, ddpg, to show only those interviewers\n",
    "experiment = 'equal'\n",
    "metric = 'ndcg'\n",
    "model_prefix = 'pop'\n",
    "num_questions = 10\n",
    "splits = 4\n",
    "\n",
    "data = requests.get(f'https://mindreader.tech/spectate/results/{experiment}/{metric}/{get_cutoff(experiment)}').json()\n",
    "\n",
    "for model in models:\n",
    "    if not model.startswith(model_prefix):\n",
    "        continue\n",
    "    \n",
    "    model_names.add(model)\n",
    "    \n",
    "    if models[model]['class'] != DumbInterviewer:\n",
    "       model_names.add(f'{model}-rec')\n",
    "\n",
    "existing_models = set(data.keys())\n",
    "\n",
    "print(f'Missing entirely from {experiment} ({model_prefix}):')\n",
    "print_missing(model_names.difference(existing_models))\n",
    "\n",
    "print(f'Missing first split:')\n",
    "print_missing({model for model in existing_models if len(data[model]) < num_questions})\n",
    "\n",
    "print(f'Missing splits:')\n",
    "def results_len(from_model):\n",
    "    return sum([len(split) for split in [question for question in data[from_model]]])\n",
    "\n",
    "print_missing({model for model in existing_models if len(data[model]) == num_questions and results_len(model) < num_questions * splits})"
   ]
  }
 ],
 "metadata": {
  "kernelspec": {
   "display_name": "Python 3",
   "language": "python",
   "name": "python3"
  },
  "language_info": {
   "codemirror_mode": {
    "name": "ipython",
    "version": 2
   },
   "file_extension": ".py",
   "mimetype": "text/x-python",
   "name": "python",
   "nbconvert_exporter": "python",
   "pygments_lexer": "ipython2",
   "version": "2.7.6"
  },
  "pycharm": {
   "stem_cell": {
    "cell_type": "raw",
    "source": [],
    "metadata": {
     "collapsed": false
    }
   }
  }
 },
 "nbformat": 4,
 "nbformat_minor": 0
}