{
 "cells": [
  {
   "cell_type": "code",
   "execution_count": 8,
   "metadata": {
    "collapsed": true,
    "pycharm": {
     "is_executing": false
    }
   },
   "outputs": [
    {
     "name": "stdout",
     "text": [
      "greedy-adaptive-ppr-joint: 0.0974 (0.00)\n",
      "greedy-adaptive-ppr-joint-knowdontknow: 0.0937 (0.00)\n",
      "*: 0.02903\n"
     ],
     "output_type": "stream"
    }
   ],
   "source": [
    "from requests import get\n",
    "from scipy.stats import ttest_rel\n",
    "import numpy as np\n",
    "\n",
    "metric = 'ndcg'\n",
    "cutoff = '10'\n",
    "n_questions = 5\n",
    "experiment_subset = 'equal'\n",
    "significance_level = 0.05\n",
    "data = get(f'http://localhost:5000/spectate/results/{experiment_subset}/{metric}/{cutoff}').json()\n",
    "de_only = False\n",
    "recommenders = ['ppr-joint', 'knn', 'mf', 'ppr-collab', 'ppr-kg']\n",
    "\n",
    "if not de_only:\n",
    "    recommenders = [f'{recommender}-rec' for recommender in recommenders]\n",
    "\n",
    "interviewer_a = 'greedy-adaptive'\n",
    "interviewer_b = 'pop'\n",
    "\n",
    "for recommender in recommenders:\n",
    "    model_a = f'{interviewer_a}-{recommender}'\n",
    "    model_b = f'{interviewer_b}-{recommender}'\n",
    "    \n",
    "    if model_a not in data or model_b not in data:\n",
    "        continue\n",
    "        \n",
    "    data_a = data[model_a][n_questions - 1]\n",
    "    data_b = data[model_b][n_questions - 1]\n",
    "    \n",
    "    t, p = ttest_rel(data_a, data_b)\n",
    "    print(f'{\"*\" if p <= significance_level else \"\"}{recommender}: {p:.5f}')\n",
    "\n",
    "def comp(a, b):\n",
    "    data_a = data[a][n_questions - 1]\n",
    "    data_b = data[b][n_questions - 1]\n",
    "    \n",
    "    t, p = ttest_rel(data_a, data_b)\n",
    "    \n",
    "    print(f'{a}: {np.mean(data_a):.4f} ({np.std(data_a):.2f})')\n",
    "    print(f'{b}: {np.mean(data_b):.4f} ({np.std(data_b):.2f})')\n",
    "    \n",
    "    print(f'{\"*\" if p <= significance_level else \"\"}: {p:.5f}')\n",
    "\n",
    "comp('greedy-adaptive-ppr-joint', 'greedy-adaptive-ppr-joint-knowdontknow')"
   ]
  }
 ],
 "metadata": {
  "kernelspec": {
   "display_name": "Python 3",
   "language": "python",
   "name": "python3"
  },
  "language_info": {
   "codemirror_mode": {
    "name": "ipython",
    "version": 2
   },
   "file_extension": ".py",
   "mimetype": "text/x-python",
   "name": "python",
   "nbconvert_exporter": "python",
   "pygments_lexer": "ipython2",
   "version": "2.7.6"
  },
  "pycharm": {
   "stem_cell": {
    "cell_type": "raw",
    "source": [],
    "metadata": {
     "collapsed": false
    }
   }
  }
 },
 "nbformat": 4,
 "nbformat_minor": 0
}