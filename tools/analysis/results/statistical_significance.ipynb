{
 "cells": [
  {
   "cell_type": "code",
   "execution_count": 30,
   "metadata": {
    "collapsed": true,
    "pycharm": {
     "is_executing": false
    }
   },
   "outputs": [
    {
     "name": "stdout",
     "text": [
      "ppr-joint-rec: 0.10450\n",
      "knn-rec: 0.10770\n",
      "mf-rec: 0.12233\n",
      "ppr-collab-rec: 0.29573\n",
      "ppr-kg-rec: 0.35447\n"
     ],
     "output_type": "stream"
    }
   ],
   "source": [
    "from requests import get\n",
    "from scipy.stats import ttest_rel\n",
    "\n",
    "metric = 'cov'\n",
    "cutoff = '10'\n",
    "n_questions = 10\n",
    "experiment_subset = 'equal'\n",
    "significance_level = 0.05\n",
    "data = get(f'https://mindreader.tech/spectate/results/{experiment_subset}/{metric}/{cutoff}').json()\n",
    "de_only = False\n",
    "recommenders = ['ppr-joint', 'knn', 'mf', 'ppr-collab', 'ppr-kg']\n",
    "\n",
    "if not de_only:\n",
    "    recommenders = [f'{recommender}-rec' for recommender in recommenders]\n",
    "\n",
    "interviewer_a = 'greedy-adaptive'\n",
    "interviewer_b = 'pop'\n",
    "\n",
    "for recommender in recommenders:\n",
    "    model_a = f'{interviewer_a}-{recommender}'\n",
    "    model_b = f'{interviewer_b}-{recommender}'\n",
    "    \n",
    "    if model_a not in data or model_b not in data:\n",
    "        continue\n",
    "        \n",
    "    data_a = data[model_a][n_questions - 1]\n",
    "    data_b = data[model_b][n_questions - 1]\n",
    "    \n",
    "    t, p = ttest_rel(data_a, data_b)\n",
    "    print(f'{\"*\" if p <= significance_level else \"\"}{recommender}: {p:.5f}')\n"
   ]
  }
 ],
 "metadata": {
  "kernelspec": {
   "display_name": "Python 3",
   "language": "python",
   "name": "python3"
  },
  "language_info": {
   "codemirror_mode": {
    "name": "ipython",
    "version": 2
   },
   "file_extension": ".py",
   "mimetype": "text/x-python",
   "name": "python",
   "nbconvert_exporter": "python",
   "pygments_lexer": "ipython2",
   "version": "2.7.6"
  },
  "pycharm": {
   "stem_cell": {
    "cell_type": "raw",
    "source": [],
    "metadata": {
     "collapsed": false
    }
   }
  }
 },
 "nbformat": 4,
 "nbformat_minor": 0
}