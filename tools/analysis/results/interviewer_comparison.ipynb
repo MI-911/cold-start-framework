{
 "cells": [
  {
   "cell_type": "code",
   "execution_count": 25,
   "metadata": {
    "collapsed": true,
    "pycharm": {
     "is_executing": false
    }
   },
   "outputs": [
    {
     "name": "stdout",
     "text": [
      "['Solarize_Light2', '_classic_test_patch', 'bmh', 'classic', 'dark_background', 'fast', 'fivethirtyeight', 'ggplot', 'grayscale', 'seaborn', 'seaborn-bright', 'seaborn-colorblind', 'seaborn-dark', 'seaborn-dark-palette', 'seaborn-darkgrid', 'seaborn-deep', 'seaborn-muted', 'seaborn-notebook', 'seaborn-paper', 'seaborn-pastel', 'seaborn-poster', 'seaborn-talk', 'seaborn-ticks', 'seaborn-white', 'seaborn-whitegrid', 'tableau-colorblind10']\n",
      "{'ppr-linear-learned', 'knn', 'ppr-joint', 'dqn-mf', 'ppr-collab', 'lrmf', 'dqn-ppr-joint', 'ppr-kg', 'ppr-linear-grid', 'fmf', 'mf', 'random', 'dqn-knn', 'top-pop'}\n",
      "['knn', 'mf', 'ppr-collab', 'ppr-joint', 'ppr-linear-learned']\n"
     ],
     "output_type": "stream"
    }
   ],
   "source": [
    "from requests import get\n",
    "import matplotlib.pyplot as plt\n",
    "import numpy as np\n",
    "\n",
    "\n",
    "plt.rcParams['axes.linewidth'] = 0.8\n",
    "plt.style.use('seaborn-deep')\n",
    "print(plt.style.available)\n",
    "metric = 'ndcg'\n",
    "cutoff = '10'\n",
    "n_questions = 10\n",
    "de_only = True\n",
    "experiment_subset = 'uniform'\n",
    "\n",
    "\n",
    "\n",
    "data = get(f'https://mindreader.tech/spectate/results/{experiment_subset}/{metric}/{cutoff}').json()\n",
    "metric = metric.replace('cov', 'div')  # Hack job :-)\n",
    "interviewer_kinds = ['greedy-adaptive-', 'greedy-', 'pop-']#, 'dqn-', 'ddpg-']\n",
    "\n",
    "def replace_all(string, lst):\n",
    "    for item in lst:\n",
    "        string = string.replace(item, '')\n",
    "    \n",
    "    return string\n",
    "\n",
    "unique_models = set([replace_all(model, interviewer_kinds) for model in data.keys()])\n",
    "if de_only:\n",
    "    unique_models = set([model.replace('-rec', '') for model in unique_models])\n",
    "else:\n",
    "    unique_models = set([model for model in unique_models if model.endswith('-rec')])\n",
    "\n",
    "print(unique_models)\n",
    "unique_models = sorted(set([model for model in unique_models if all([f'{interviewer}{model}' in data and len(data[f'{interviewer}{model}']) >= n_questions for interviewer in interviewer_kinds])]))\n",
    "print(unique_models)"
   ]
  },
  {
   "cell_type": "code",
   "execution_count": 26,
   "outputs": [
    {
     "name": "stdout",
     "text": [
      "\n",
      "['knn', 'mf', 'ppr-collab', 'ppr-joint', 'ppr-linear-learned'] [0.33707629060183647, 0.37421586398646, 0.3855777734813358, 0.364654666917953, 0.3687924088079425] [0.0, 0.016093914945693188, 0.016012828997351344, 0.013696275652671992, 0.0]\n",
      "\n",
      "['knn', 'mf', 'ppr-collab', 'ppr-joint', 'ppr-linear-learned'] [0.3315501227238927, 0.37421586398646, 0.38594095663307315, 0.3738358738770504, 0.375296592480337] [0.0296594004706024, 0.016093914945693188, 0.016016630644674623, 0.015566353289928277, 0.0]\n",
      "\n",
      "['knn', 'mf', 'ppr-collab', 'ppr-joint', 'ppr-linear-learned'] [0.34352785280373255, 0.37421586398646, 0.3885327609897071, 0.3716072349507849, 0.3747385198352702] [0.024506469123986917, 0.016093914945693188, 0.016046891208050872, 0.016893462141112092, 0.0]\n"
     ],
     "output_type": "stream"
    },
    {
     "data": {
      "text/plain": "<Figure size 576x360 with 1 Axes>",
      "image/png": "[encoded data removed]"
     },
     "metadata": {
      "needs_background": "light"
     },
     "output_type": "display_data"
    }
   ],
   "source": [
    "fig, ax = plt.subplots(figsize=(8, 5))\n",
    "ind = np.arange(len(unique_models))\n",
    "width = .15\n",
    "\n",
    "model_map = {'ppr-linear-grid': 'ppr-linear'}\n",
    "label_map = {'greedy-adaptive-': 'AdaptiveGreedy', 'greedy-': 'FixedGreedy', 'pop-': 'FixedPop', 'dqn-': 'DQN', 'ddpg-': 'DDPG'}\n",
    "for idx, kind in enumerate(interviewer_kinds):\n",
    "    x = unique_models\n",
    "    print()\n",
    "    y = [np.mean(data[f'{kind}{model}'][n_questions - 1]) for model in x]\n",
    "    y_std = [np.std(data[f'{kind}{model}'][n_questions - 1]) for model in x]\n",
    "\n",
    "    print(x, y, y_std)\n",
    "    ax.bar(ind + idx * width, y, yerr=y_std, width=width, label=label_map.get(kind), zorder=3)\n",
    "    \n",
    "model_displays = [model.replace('-rec', '') for model in unique_models]\n",
    "model_displays = map(lambda model: model_map.get(model, model).upper(), model_displays)\n",
    "\n",
    "ax.set_xticks(ind + width)\n",
    "ax.set_xticklabels(model_displays)\n",
    "plt.ylabel(f'{metric.upper()}@{cutoff}')\n",
    "interview_kind = 'DE' if de_only else 'RE'\n",
    "interview_kind_long = 'descriptive' if de_only else 'recommendable'\n",
    "plt.title(f'{n_questions}-length {interview_kind_long} entity interview')\n",
    "plt.legend()\n",
    "plt.grid(True, zorder=0)\n",
    "plt.savefig(f'output/{experiment_subset}_{interview_kind.lower()}_{metric}{cutoff}_interviewer_comparison.pdf', bbox_inches='tight')\n",
    "plt.show()"
   ],
   "metadata": {
    "collapsed": false,
    "pycharm": {
     "name": "#%%\n",
     "is_executing": false
    }
   }
  }
 ],
 "metadata": {
  "kernelspec": {
   "display_name": "Python 3",
   "language": "python",
   "name": "python3"
  },
  "language_info": {
   "codemirror_mode": {
    "name": "ipython",
    "version": 2
   },
   "file_extension": ".py",
   "mimetype": "text/x-python",
   "name": "python",
   "nbconvert_exporter": "python",
   "pygments_lexer": "ipython2",
   "version": "2.7.6"
  },
  "pycharm": {
   "stem_cell": {
    "cell_type": "raw",
    "source": [],
    "metadata": {
     "collapsed": false
    }
   }
  }
 },
 "nbformat": 4,
 "nbformat_minor": 0
}