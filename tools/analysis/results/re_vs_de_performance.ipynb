{
 "cells": [
  {
   "cell_type": "code",
   "execution_count": 8,
   "metadata": {
    "collapsed": true,
    "pycharm": {
     "is_executing": false
    }
   },
   "outputs": [
    {
     "name": "stdout",
     "text": [
      "['Solarize_Light2', '_classic_test_patch', 'bmh', 'classic', 'dark_background', 'fast', 'fivethirtyeight', 'ggplot', 'grayscale', 'seaborn', 'seaborn-bright', 'seaborn-colorblind', 'seaborn-dark', 'seaborn-dark-palette', 'seaborn-darkgrid', 'seaborn-deep', 'seaborn-muted', 'seaborn-notebook', 'seaborn-paper', 'seaborn-pastel', 'seaborn-poster', 'seaborn-talk', 'seaborn-ticks', 'seaborn-white', 'seaborn-whitegrid', 'tableau-colorblind10']\n",
      "['greedy-ppr-kg', 'greedy-ppr-joint', 'greedy-ppr-collab'] [0.2239258643236721, 0.3633655140217059, 0.37676770524805614] [0.012667984814901117, 0.005075265570921121, 0.013790142856452947]\n",
      "['greedy-ppr-kg-rec', 'greedy-ppr-joint-rec', 'greedy-ppr-collab-rec'] [0.1952300025540773, 0.34609168262553525, 0.37631443802604203] [0.014420904098491501, 0.012829815458006957, 0.019679268596179977]\n",
      "[0.21845958317134748, 0.1798291162368665, 0.18782245072640846, 0.1948088600816868]\n",
      "[0.22905095924968444, 0.23726645195580037, 0.20313484921518304, 0.22625119687402048]\n",
      "[0.3656526438007245, 0.33351276433464616, 0.34942641425029386, 0.33577490811647637]\n",
      "[0.37128574955469623, 0.36429049506996725, 0.35934826571874545, 0.3585375457434148]\n",
      "[0.4035899283798209, 0.36580576132030396, 0.3845765526691238, 0.35128550973491957]\n",
      "[0.3966120792882358, 0.36523325941693024, 0.3825952780181914, 0.3626302042688673]\n"
     ],
     "output_type": "stream"
    },
    {
     "data": {
      "text/plain": "<Figure size 1296x360 with 1 Axes>",
      "image/png": "[encoded data removed]"
     },
     "metadata": {},
     "output_type": "display_data"
    }
   ],
   "source": [
    "from requests import get\n",
    "import matplotlib.pyplot as plt\n",
    "import numpy as np\n",
    "from scipy.stats import ttest_ind, ttest_rel\n",
    "\n",
    "plt.rcParams['font.sans-serif'] = 'Helvetica'\n",
    "plt.rcParams['axes.linewidth'] = 0.8\n",
    "plt.style.use('seaborn')\n",
    "print(plt.style.available)\n",
    "metric = 'ndcg'\n",
    "cutoff = '10'\n",
    "n_questions = 10\n",
    "significance_level = 0.05\n",
    "\n",
    "data = get(f'https://mindreader.tech/spectate/results/170k_uniform/{metric}/{cutoff}').json()\n",
    "#data = get(f'http://localhost:5000/spectate/results/170k_equal_20/{metric}/{cutoff}').json()\n",
    "\n",
    "models = sorted([key for key in data.keys() if key.endswith('-rec')], reverse=True)\n",
    "\n",
    "fig, ax = plt.subplots(figsize=(18, 5))\n",
    "ind = np.arange(len(models))\n",
    "\n",
    "width = 0.15\n",
    "\n",
    "# add with rec\n",
    "for idx, (label, to_replace) in enumerate([('DE interview', '-rec'), ('RE interview', '')]):\n",
    "    x = [model.replace(to_replace, '') for model in models]\n",
    "    y = [np.mean(data[model][n_questions - 1]) for model in x]\n",
    "    y_std = [np.std(data[model][n_questions - 1]) for model in x]\n",
    "    \n",
    "    print(x, y, y_std)\n",
    "    ax.bar(ind + idx * width, y, yerr=y_std, width=width, label=label)\n",
    "\n",
    "\n",
    "def get_postfix(model):\n",
    "    re_data = f'{model}-rec'\n",
    "    if re_data not in data:\n",
    "        return ''\n",
    "    \n",
    "    re = data[re_data][n_questions - 1]\n",
    "    de = data[model][n_questions - 1]\n",
    "    \n",
    "    print(re)\n",
    "    print(de)\n",
    "    \n",
    "    t, p_value = ttest_rel(re, de)\n",
    "    if p_value <= significance_level:\n",
    "        return '*'\n",
    "    \n",
    "    return ''\n",
    "        \n",
    "# add statistical significance\n",
    "models = [model.replace('-rec', '') for model in models]\n",
    "models = [model.replace('greedy-', '').upper() + get_postfix(model) for model in models]\n",
    "\n",
    "\n",
    "ax.set_xticks(ind + width / 2)\n",
    "ax.set_xticklabels([model.replace('-rec', '').replace('greedy-', '').upper() for model in models])\n",
    "plt.ylabel(f'{metric.upper()}@{cutoff}')\n",
    "plt.title(f'{n_questions}-length interview')\n",
    "plt.legend(loc='upper left')\n",
    "plt.savefig('re_vs_de.pdf', bbox_inches='tight')\n",
    "plt.show()"
   ]
  },
  {
   "cell_type": "code",
   "execution_count": 8,
   "outputs": [],
   "source": [
    "\n"
   ],
   "metadata": {
    "collapsed": false,
    "pycharm": {
     "name": "#%%\n",
     "is_executing": false
    }
   }
  }
 ],
 "metadata": {
  "kernelspec": {
   "display_name": "Python 3",
   "language": "python",
   "name": "python3"
  },
  "language_info": {
   "codemirror_mode": {
    "name": "ipython",
    "version": 2
   },
   "file_extension": ".py",
   "mimetype": "text/x-python",
   "name": "python",
   "nbconvert_exporter": "python",
   "pygments_lexer": "ipython2",
   "version": "2.7.6"
  },
  "pycharm": {
   "stem_cell": {
    "cell_type": "raw",
    "source": [],
    "metadata": {
     "collapsed": false
    }
   }
  }
 },
 "nbformat": 4,
 "nbformat_minor": 0
}