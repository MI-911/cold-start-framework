{
 "cells": [
  {
   "cell_type": "code",
   "execution_count": 33,
   "metadata": {
    "collapsed": true,
    "pycharm": {
     "is_executing": false
    }
   },
   "outputs": [
    {
     "name": "stdout",
     "text": [
      "['greedy-ppr-kg', 'greedy-ppr-joint', 'greedy-ppr-collab', 'greedy-knn'] [0.1881080164272712, 0.3070761399037397, 0.33522645905428256, 0.2944264223807658] [0.015538957913347523, 0.014048728012298867, 0.011442674374058754, 0.007436621986279627]\n",
      "['greedy-ppr-kg-rec', 'greedy-ppr-joint-rec', 'greedy-ppr-collab-rec', 'greedy-knn-rec'] [0.13987143560747614, 0.2630849183466833, 0.33397516008238964, 0.14807688100968813] [0.009084532746389273, 0.018061544270418478, 0.012500972300303706, 0.012922450178892111]\n"
     ],
     "output_type": "stream"
    },
    {
     "data": {
      "text/plain": "<Figure size 504x360 with 1 Axes>",
      "image/png": "[encoded data removed]"
     },
     "metadata": {
      "needs_background": "light"
     },
     "output_type": "display_data"
    }
   ],
   "source": [
    "from requests import get\n",
    "import matplotlib.pyplot as plt\n",
    "import numpy as np\n",
    "\n",
    "metric = 'ndcg'\n",
    "cutoff = '10'\n",
    "n_questions = 10\n",
    "\n",
    "data = get(f'https://mindreader.tech/spectate/results/default_rec/{metric}/{cutoff}').json()\n",
    "\n",
    "models = sorted([key for key in data.keys() if key.endswith('-rec')], reverse=True)\n",
    "\n",
    "fig, ax = plt.subplots(figsize=(7, 5))\n",
    "ind = np.arange(len(models))\n",
    "\n",
    "width = 0.35\n",
    "\n",
    "# add with rec\n",
    "for idx, (label, to_replace) in enumerate([('DE interview', '-rec'), ('RE interview', '')]):\n",
    "    x = [model.replace(to_replace, '') for model in models]\n",
    "    y = [np.mean(data[model][n_questions - 1]) for model in x]\n",
    "    y_std = [np.std(data[model][n_questions - 1]) for model in x]\n",
    "    \n",
    "    print(x, y, y_std)\n",
    "    ax.bar(ind + idx * width, y, yerr=y_std, width=width, label=label)\n",
    "\n",
    "ax.set_xticks(ind + width / 2)\n",
    "ax.set_xticklabels([model.replace('-rec', '').replace('greedy-', '').upper() for model in models])\n",
    "plt.ylabel(f'{metric.upper()}@{cutoff}')\n",
    "plt.title(f'{n_questions}-length interview')\n",
    "plt.legend(loc='upper left')\n",
    "plt.savefig('re_vs_de.pdf', bbox_inches='tight')\n",
    "plt.show()"
   ]
  }
 ],
 "metadata": {
  "kernelspec": {
   "display_name": "Python 3",
   "language": "python",
   "name": "python3"
  },
  "language_info": {
   "codemirror_mode": {
    "name": "ipython",
    "version": 2
   },
   "file_extension": ".py",
   "mimetype": "text/x-python",
   "name": "python",
   "nbconvert_exporter": "python",
   "pygments_lexer": "ipython2",
   "version": "2.7.6"
  },
  "pycharm": {
   "stem_cell": {
    "cell_type": "raw",
    "source": [],
    "metadata": {
     "collapsed": false
    }
   }
  }
 },
 "nbformat": 4,
 "nbformat_minor": 0
}