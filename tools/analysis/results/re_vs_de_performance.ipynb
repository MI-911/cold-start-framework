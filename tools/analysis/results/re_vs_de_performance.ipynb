{
 "cells": [
  {
   "cell_type": "code",
   "execution_count": 5,
   "metadata": {
    "collapsed": true,
    "pycharm": {
     "is_executing": false
    }
   },
   "outputs": [
    {
     "name": "stdout",
     "text": [
      "['greedy-ppr-collab', 'greedy-ppr-joint', 'greedy-ppr-kg'] [0.12945544554455446, 0.18473597359735972, 0.25742574257425743] [0.0030816583163338395, 0.013832625750146406, 0.034393967889384106]\n",
      "['greedy-ppr-collab-rec', 'greedy-ppr-joint-rec', 'greedy-ppr-kg-rec'] [0.13242574257425743, 0.17879537953795377, 0.24059405940594059] [0.00453345111149048, 0.008421906182181279, 0.008391539363096449]\n"
     ],
     "output_type": "stream"
    },
    {
     "data": {
      "text/plain": "<Figure size 432x288 with 1 Axes>",
      "image/png": "[encoded data removed]"
     },
     "metadata": {
      "needs_background": "light"
     },
     "output_type": "display_data"
    }
   ],
   "source": [
    "from requests import get\n",
    "import matplotlib.pyplot as plt\n",
    "import numpy as np\n",
    "\n",
    "metric = 'cov'\n",
    "cutoff = '10'\n",
    "n_questions = 10\n",
    "\n",
    "data = get(f'https://mindreader.tech/spectate/results/default_rec/{metric}/{cutoff}').json()\n",
    "\n",
    "models = [key for key in data.keys() if key.endswith('-rec')]\n",
    "\n",
    "fig, ax = plt.subplots()\n",
    "ind = np.arange(3)\n",
    "\n",
    "width = 0.35\n",
    "\n",
    "# add with rec\n",
    "for idx, (label, to_replace) in enumerate([('DE interview', '-rec'), ('RE interview', '')]):\n",
    "    x = [model.replace(to_replace, '') for model in models]\n",
    "    y = [np.mean(data[model][n_questions - 1]) for model in x]\n",
    "    y_std = [np.std(data[model][n_questions - 1]) for model in x]\n",
    "    \n",
    "    print(x, y, y_std)\n",
    "    ax.bar(ind + idx * width, y, yerr=y_std, width=width, label=label)\n",
    "\n",
    "ax.set_xticks(ind + width / 2)\n",
    "ax.set_xticklabels([model.replace('-rec', '').replace('greedy-', '').upper() for model in models])\n",
    "plt.ylabel(f'{metric.upper()}@{cutoff}')\n",
    "plt.title(f'{n_questions}-length interview (greedy)')\n",
    "plt.legend()\n",
    "plt.savefig('re_vs_de.pdf', bbox_inches='tight')\n",
    "plt.show()"
   ]
  }
 ],
 "metadata": {
  "kernelspec": {
   "display_name": "Python 3",
   "language": "python",
   "name": "python3"
  },
  "language_info": {
   "codemirror_mode": {
    "name": "ipython",
    "version": 2
   },
   "file_extension": ".py",
   "mimetype": "text/x-python",
   "name": "python",
   "nbconvert_exporter": "python",
   "pygments_lexer": "ipython2",
   "version": "2.7.6"
  },
  "pycharm": {
   "stem_cell": {
    "cell_type": "raw",
    "source": [],
    "metadata": {
     "collapsed": false
    }
   }
  }
 },
 "nbformat": 4,
 "nbformat_minor": 0
}