{
 "cells": [
  {
   "cell_type": "code",
   "execution_count": 166,
   "metadata": {
    "collapsed": true,
    "pycharm": {
     "is_executing": false
    }
   },
   "outputs": [
    {
     "name": "stdout",
     "text": [
      "The autoreload extension is already loaded. To reload it, use:\n",
      "  %reload_ext autoreload\n",
      "['Solarize_Light2', '_classic_test_patch', 'bmh', 'classic', 'dark_background', 'fast', 'fivethirtyeight', 'ggplot', 'grayscale', 'seaborn', 'seaborn-bright', 'seaborn-colorblind', 'seaborn-dark', 'seaborn-dark-palette', 'seaborn-darkgrid', 'seaborn-deep', 'seaborn-muted', 'seaborn-notebook', 'seaborn-paper', 'seaborn-pastel', 'seaborn-poster', 'seaborn-talk', 'seaborn-ticks', 'seaborn-white', 'seaborn-whitegrid', 'tableau-colorblind10']\n",
      "['Solarize_Light2', '_classic_test_patch', 'bmh', 'classic', 'dark_background', 'fast', 'fivethirtyeight', 'ggplot', 'grayscale', 'seaborn', 'seaborn-bright', 'seaborn-colorblind', 'seaborn-dark', 'seaborn-dark-palette', 'seaborn-darkgrid', 'seaborn-deep', 'seaborn-muted', 'seaborn-notebook', 'seaborn-paper', 'seaborn-pastel', 'seaborn-poster', 'seaborn-talk', 'seaborn-ticks', 'seaborn-white', 'seaborn-whitegrid', 'tableau-colorblind10']\n",
      "['fmf', 'greedy-adaptive-knn', 'greedy-adaptive-mf', 'greedy-adaptive-ppr-collab', 'greedy-adaptive-ppr-joint', 'greedy-adaptive-ppr-kg', 'greedy-adaptive-ppr-linear-learned', 'lrmf', 'melu'] [0.02974728798545894, 0.3366801141313951, 0.3738524251883198, 0.386875120885229, 0.3563722856403321, 0.2113961260817097, 0.38866559919117155, 0.3879704665098679, 0.2985135506982419] [0.006363718984761168, 0.021311358620569286, 0.016378244069580196, 0.014861945726674179, 0.012144055205340497, 0.016729782384079166, 0.022748853703059548, 0.01377121076445883, 0.02288015044090497]\n",
      "['fmf-rec', 'greedy-adaptive-knn-rec', 'greedy-adaptive-mf-rec', 'greedy-adaptive-ppr-collab-rec', 'greedy-adaptive-ppr-joint-rec', 'greedy-adaptive-ppr-kg-rec', 'greedy-adaptive-ppr-linear-learned-rec', 'lrmf-rec', 'melu-rec'] [0.032433709304851, 0.1310828338433639, 0.37421586398646, 0.3874379656096112, 0.34150539786488127, 0.18121771450605684, 0.3798988353929924, 0.3903400967090467, 0.29612297190230585] [0.005744611248504045, 0.009659456467177602, 0.016093914945693188, 0.016061049037119128, 0.019616898376362414, 0.006104987194398361, 0.019007085236346574, 0.0166103775142472, 0.01953784535246282]\n",
      "Rectangle(xy=(-0.15, 0), width=0.3, height=0.0297473, angle=0)\n",
      "Rectangle(xy=(0.85, 0), width=0.3, height=0.33668, angle=0)\n",
      "Rectangle(xy=(1.85, 0), width=0.3, height=0.373852, angle=0)\n",
      "Rectangle(xy=(7.85, 0), width=0.3, height=0.298514, angle=0)\n",
      "Rectangle(xy=(0.15, 0), width=0.3, height=0.0324337, angle=0)\n",
      "Rectangle(xy=(1.15, 0), width=0.3, height=0.131083, angle=0)\n",
      "Rectangle(xy=(2.15, 0), width=0.3, height=0.374216, angle=0)\n",
      "Rectangle(xy=(8.15, 0), width=0.3, height=0.296123, angle=0)\n"
     ],
     "output_type": "stream"
    },
    {
     "data": {
      "text/plain": "<Figure size 576x360 with 1 Axes>",
      "image/png": "[encoded data removed]"
     },
     "metadata": {
      "needs_background": "light"
     },
     "output_type": "display_data"
    }
   ],
   "source": [
    "%load_ext autoreload\n",
    "%autoreload 2\n",
    "\n",
    "from requests import get\n",
    "import matplotlib.pyplot as plt\n",
    "import numpy as np\n",
    "from scipy.stats import ttest_ind, ttest_rel\n",
    "\n",
    "\n",
    "\n",
    "font = {'family' : 'normal',\n",
    "        'size'   : 13}\n",
    "\n",
    "plt.rc('font', **font)\n",
    "\n",
    "plt.rcParams['axes.linewidth'] = 0.8\n",
    "print(plt.style.available)\n",
    "plt.style.use('seaborn-deep')\n",
    "print(plt.style.available)\n",
    "metric = 'ndcg'\n",
    "cutoff = '10'\n",
    "n_questions = 5\n",
    "significance_level = 0.05\n",
    "experiment = 'uniform'\n",
    "interviewer = 'AdaptiveGreedy'\n",
    "sota = {'lrmf', 'fmf', 'melu'}\n",
    "highlight = ['linear', 'joint', 'lrmf', 'collab', 'kg']\n",
    "data = get(f'https://mindreader.tech/spectate/results/{experiment}/{metric}/{cutoff}').json()\n",
    "data = {k: v for k, v in data.items() if not 'grid' in k}\n",
    "metric = metric.replace('cov', 'div')  # Hack job :-)\n",
    "\n",
    "#data = get(f'http://localhost:5000/spectate/results/equal/{metric}/{cutoff}').json()\n",
    "\n",
    "\n",
    "def results_len(from_model):\n",
    "    return sum([len(split) for split in [question for question in data[from_model]]])\n",
    "\n",
    "def is_allowed(model):\n",
    "    if 'linear-joint' in model:\n",
    "        return False\n",
    "    \n",
    "    for allowed in sota:\n",
    "        if allowed in model:\n",
    "            return True\n",
    "    \n",
    "    if interviewer == 'FixedGreedy':\n",
    "        return model.startswith('greedy') and 'adaptive' not in model\n",
    "    elif interviewer == 'FixedPop':\n",
    "        return model.startswith('pop')\n",
    "    elif interviewer == 'AdaptiveGreedy':\n",
    "        return model.startswith('greedy-adaptive')\n",
    "    elif interviewer == 'DQN':\n",
    "        return model.startswith('dqn-')\n",
    "    elif interviewer == 'ddpg':\n",
    "        return model.startswith('ddpg-')\n",
    "    \n",
    "    return False\n",
    "    \n",
    "models = sorted([key for key in data.keys() if key.endswith('-rec') and is_allowed(key)], reverse=False)\n",
    "models = [model for model in models if len(data[model]) >= n_questions]\n",
    "\n",
    "fig, ax = plt.subplots(figsize=(8, 5))\n",
    "plt.axhline(y=np.mean(data['top-pop'][n_questions - 1]), linestyle='--', color='black')\n",
    "ind = np.arange(len(models))\n",
    "\n",
    "width = 0.3\n",
    "\n",
    "bars_list = list()\n",
    "# add with rec\n",
    "for idx, (label, to_replace) in enumerate([('DE interview', '-rec'), ('RE interview', '')]):\n",
    "    x = [model.replace(to_replace, '') for model in models]\n",
    "    y = [np.mean(data[model][n_questions - 1]) for model in x]\n",
    "    y_std = [np.std(data[model][n_questions - 1]) for model in x]\n",
    "    \n",
    "    print(x, y, y_std)\n",
    "    alpha = 1\n",
    "        \n",
    "    bars_list.append(ax.bar(ind + idx * width, y, width=width, label=label, zorder=3))\n",
    "\n",
    "            \n",
    "\n",
    "def get_postfix(model):\n",
    "    re_data = f'{model}-rec'\n",
    "    if re_data not in data:\n",
    "        return ''\n",
    "    \n",
    "    re = data[re_data][n_questions - 1]\n",
    "    de = data[model][n_questions - 1]\n",
    "    \n",
    "    if len(re) == len(de) and ttest_rel(de, re)[1] <= significance_level:\n",
    "        return '*'\n",
    "    \n",
    "    return ''\n",
    "\n",
    "# get best\n",
    "\n",
    "# add statistical significance\n",
    "displays = [model.replace('-rec', '') for model in models]\n",
    "displays = [model.replace('greedy-', '').replace('ppr-', '').replace('melu', 'melun').replace('adaptive-', '').replace('pop-', '').replace('-learned', '').upper() + get_postfix(model) for model in displays]\n",
    "displays = [model.upper() for model in displays]\n",
    "\n",
    "ax.set_xticks(ind + width / 2)\n",
    "ax.set_xticklabels(displays)\n",
    "plt.xticks(rotation=25)\n",
    "\n",
    "bottom, top = ax.yaxis.get_data_interval()\n",
    "\n",
    "#plt.ylim([0.02, top * 1.05])\n",
    "\n",
    "if metric == 'tau':\n",
    "    plt.ylabel('τ')\n",
    "else:\n",
    "    plt.ylabel(f'{metric.upper()}@{cutoff}')\n",
    "# plt.title('Ranking quality' if metric == 'ndcg' else 'Recommendation diversity')\n",
    "plt.grid(True, zorder=0)\n",
    "plt.legend(loc='upper center', bbox_to_anchor=(0.5, 1.1),\n",
    "          ncol=2, fancybox=True, shadow=True)\n",
    "\n",
    "if highlight:\n",
    "    for idx, bars in enumerate(bars_list):\n",
    "        for i, model in enumerate(x):\n",
    "            should_highlight = False\n",
    "            for to_highlight in highlight:\n",
    "                if to_highlight in model:\n",
    "                    should_highlight = True\n",
    "    \n",
    "            if not should_highlight or 'fmf' in model:\n",
    "                print(bars[i])\n",
    "                bars[i].set_alpha(0.75)\n",
    "                bars[i].set_color('gray' if idx == 0 else 'lightgray')\n",
    "\n",
    "highlight_name = '_highlight-' + '-'.join(highlight) if highlight else ''\n",
    "plt.savefig(f'output/{experiment}_{interviewer.lower()}_{metric}{cutoff}{highlight_name}_re_vs_de.pdf', bbox_inches='tight')\n",
    "plt.show()"
   ]
  },
  {
   "cell_type": "code",
   "execution_count": 167,
   "outputs": [
    {
     "name": "stdout",
     "text": [
      "lrmf-rec: 0.3903400967090467\n",
      "greedy-adaptive-ppr-linear-learned: 0.38866559919117155\n",
      "lrmf-rec vs. greedy-adaptive-ppr-linear-learned: 80.3528%None\n",
      "\n",
      "melu-rec: 0.29612297190230585\n",
      "greedy-adaptive-ppr-linear-learned: 0.38866559919117155\n",
      "melu-rec vs. greedy-adaptive-ppr-linear-learned: 0.1453%*\n",
      "\n",
      "melu-rec: 0.29612297190230585\n",
      "greedy-adaptive-ppr-linear-learned: 0.38866559919117155\n",
      "melu-rec vs. greedy-adaptive-ppr-linear-learned: 0.1453%*\n",
      "\n"
     ],
     "output_type": "stream"
    }
   ],
   "source": [
    "def get_best(json_data, questions):\n",
    "    de_models = [model.replace('-rec', '') for model in models]\n",
    "    de_models = [model for model in de_models if model not in sota]\n",
    "    \n",
    "    return max(de_models, key=lambda key: np.mean(json_data[key][questions - 1]) if len(json_data[key]) >= n_questions else 0)\n",
    "\n",
    "def compare_significance(model_a, model_b):\n",
    "    data_a = data[model_a][n_questions - 1]\n",
    "    data_b = data[model_b][n_questions - 1]\n",
    "    \n",
    "    print(f'{model_a}: {np.mean(data_a)}')\n",
    "    print(f'{model_b}: {np.mean(data_b)}')\n",
    "\n",
    "    t, p = ttest_rel(data_a, data_b)\n",
    "    print(f'{model_a} vs. {model_b}: {p * 100:.4f}%{\"*\" if p <= significance_level else None}')\n",
    "\n",
    "compare_significance('lrmf-rec', get_best(data, 5))\n",
    "print()\n",
    "compare_significance('melu-rec', get_best(data, 10))\n",
    "print()\n",
    "compare_significance('melu-rec', get_best(data, 10))\n",
    "print()"
   ],
   "metadata": {
    "collapsed": false,
    "pycharm": {
     "name": "#%%\n",
     "is_executing": false
    }
   }
  }
 ],
 "metadata": {
  "kernelspec": {
   "display_name": "Python 3",
   "language": "python",
   "name": "python3"
  },
  "language_info": {
   "codemirror_mode": {
    "name": "ipython",
    "version": 2
   },
   "file_extension": ".py",
   "mimetype": "text/x-python",
   "name": "python",
   "nbconvert_exporter": "python",
   "pygments_lexer": "ipython2",
   "version": "2.7.6"
  },
  "pycharm": {
   "stem_cell": {
    "cell_type": "raw",
    "source": [],
    "metadata": {
     "collapsed": false
    }
   }
  }
 },
 "nbformat": 4,
 "nbformat_minor": 0
}