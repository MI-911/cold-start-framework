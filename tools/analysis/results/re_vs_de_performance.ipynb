{
 "cells": [
  {
   "cell_type": "code",
   "execution_count": 26,
   "metadata": {
    "collapsed": true,
    "pycharm": {
     "is_executing": false
    }
   },
   "outputs": [
    {
     "name": "stdout",
     "text": [
      "['Solarize_Light2', '_classic_test_patch', 'bmh', 'classic', 'dark_background', 'fast', 'fivethirtyeight', 'ggplot', 'grayscale', 'seaborn', 'seaborn-bright', 'seaborn-colorblind', 'seaborn-dark', 'seaborn-dark-palette', 'seaborn-darkgrid', 'seaborn-deep', 'seaborn-muted', 'seaborn-notebook', 'seaborn-paper', 'seaborn-pastel', 'seaborn-poster', 'seaborn-talk', 'seaborn-ticks', 'seaborn-white', 'seaborn-whitegrid', 'tableau-colorblind10']\n",
      "['greedy-ppr-kg', 'greedy-ppr-joint', 'greedy-ppr-collab', 'greedy-adaptive-ppr-joint'] [0.25438470385278894, 0.20378090856814263, 0.164318573893042, 0.20155261644623346] [0.005330307832507887, 0.007122690295391205, 0.009674790890391742, 0.0]\n",
      "['greedy-ppr-kg-rec', 'greedy-ppr-joint-rec', 'greedy-ppr-collab-rec', 'greedy-adaptive-ppr-joint-rec'] [0.24274008050603796, 0.17740080506037956, 0.15339275445658423, 0.1670500287521564] [0.019978481968432393, 0.007063322884725851, 0.009902812017995694, 0.0]\n",
      "[0.273720529039678, 0.24410580793559516, 0.2190914318573893, 0.23404255319148937]\n",
      "[0.2610695802185164, 0.2527314548591144, 0.25704427832087406, 0.24669350201265094]\n",
      "[0.1794134560092007, 0.18775158136860265, 0.17366302472685452, 0.16877515813686025]\n",
      "[0.19551466359977, 0.20672800460034502, 0.21391604370327774, 0.19896492236917768]\n",
      "[0.14289821736630248, 0.16820011500862564, 0.14606095457159288, 0.156411730879816]\n",
      "[0.16676250718803912, 0.17912593444508337, 0.15526164462334674, 0.15612420931569868]\n",
      "[0.1670500287521564]\n",
      "[0.20155261644623346]\n"
     ],
     "output_type": "stream"
    },
    {
     "name": "stderr",
     "text": [
      "/home/anders/Code/cold-start-framework/.venv/lib/python3.8/site-packages/numpy/core/fromnumeric.py:3583: RuntimeWarning: Degrees of freedom <= 0 for slice\n",
      "  return _methods._var(a, axis=axis, dtype=dtype, out=out, ddof=ddof,\n",
      "/home/anders/Code/cold-start-framework/.venv/lib/python3.8/site-packages/numpy/core/_methods.py:209: RuntimeWarning: invalid value encountered in double_scalars\n",
      "  ret = ret.dtype.type(ret / rcount)\n"
     ],
     "output_type": "stream"
    },
    {
     "data": {
      "text/plain": "<Figure size 720x360 with 1 Axes>",
      "image/png": "[encoded data removed]"
     },
     "metadata": {},
     "output_type": "display_data"
    }
   ],
   "source": [
    "from requests import get\n",
    "import matplotlib.pyplot as plt\n",
    "import numpy as np\n",
    "from scipy.stats import ttest_ind, ttest_rel\n",
    "\n",
    "plt.rcParams['font.sans-serif'] = 'Helvetica'\n",
    "plt.rcParams['axes.linewidth'] = 0.8\n",
    "plt.style.use('seaborn')\n",
    "print(plt.style.available)\n",
    "metric = 'cov'\n",
    "cutoff = '10'\n",
    "n_questions = 10\n",
    "significance_level = 0.05\n",
    "\n",
    "data = get(f'https://mindreader.tech/spectate/results/final_uniform/{metric}/{cutoff}').json()\n",
    "#data = get(f'http://localhost:5000/spectate/results/final_uniform/{metric}/{cutoff}').json()\n",
    "\n",
    "models = sorted([key for key in data.keys() if key.endswith('-rec')], reverse=True)\n",
    "\n",
    "fig, ax = plt.subplots(figsize=(10, 5))\n",
    "ind = np.arange(len(models))\n",
    "\n",
    "width = 0.15\n",
    "\n",
    "# add with rec\n",
    "for idx, (label, to_replace) in enumerate([('DE interview', '-rec'), ('RE interview', '')]):\n",
    "    x = [model.replace(to_replace, '') for model in models]\n",
    "    y = [np.mean(data[model][n_questions - 1]) for model in x]\n",
    "    y_std = [np.std(data[model][n_questions - 1]) for model in x]\n",
    "    \n",
    "    print(x, y, y_std)\n",
    "    ax.bar(ind + idx * width, y, yerr=y_std, width=width, label=label)\n",
    "\n",
    "\n",
    "def get_postfix(model):\n",
    "    re_data = f'{model}-rec'\n",
    "    if re_data not in data:\n",
    "        return ''\n",
    "    \n",
    "    re = data[re_data][n_questions - 1]\n",
    "    de = data[model][n_questions - 1]\n",
    "    \n",
    "    print(re)\n",
    "    print(de)\n",
    "    \n",
    "    t, p_value = ttest_rel(re, de)\n",
    "    if p_value <= significance_level:\n",
    "        return '*'\n",
    "    \n",
    "    return ''\n",
    "        \n",
    "# add statistical significance\n",
    "models = [model.replace('-rec', '') for model in models]\n",
    "models = [model.replace('greedy-', '').upper() + get_postfix(model) for model in models]\n",
    "\n",
    "\n",
    "ax.set_xticks(ind + width / 2)\n",
    "ax.set_xticklabels([model.replace('-rec', '').replace('greedy-', '').upper() for model in models])\n",
    "plt.ylabel(f'{metric.upper()}@{cutoff}')\n",
    "plt.title(f'{n_questions}-length interview')\n",
    "plt.legend(loc='upper right')\n",
    "plt.savefig('re_vs_de.pdf', bbox_inches='tight')\n",
    "plt.show()"
   ]
  },
  {
   "cell_type": "code",
   "execution_count": 26,
   "outputs": [],
   "source": [
    "\n"
   ],
   "metadata": {
    "collapsed": false,
    "pycharm": {
     "name": "#%%\n",
     "is_executing": false
    }
   }
  }
 ],
 "metadata": {
  "kernelspec": {
   "display_name": "Python 3",
   "language": "python",
   "name": "python3"
  },
  "language_info": {
   "codemirror_mode": {
    "name": "ipython",
    "version": 2
   },
   "file_extension": ".py",
   "mimetype": "text/x-python",
   "name": "python",
   "nbconvert_exporter": "python",
   "pygments_lexer": "ipython2",
   "version": "2.7.6"
  },
  "pycharm": {
   "stem_cell": {
    "cell_type": "raw",
    "source": [],
    "metadata": {
     "collapsed": false
    }
   }
  }
 },
 "nbformat": 4,
 "nbformat_minor": 0
}