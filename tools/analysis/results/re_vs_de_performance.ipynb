{
 "cells": [
  {
   "cell_type": "code",
   "execution_count": 52,
   "metadata": {
    "collapsed": true,
    "pycharm": {
     "is_executing": false
    }
   },
   "outputs": [
    {
     "name": "stdout",
     "text": [
      "The autoreload extension is already loaded. To reload it, use:\n",
      "  %reload_ext autoreload\n",
      "['Solarize_Light2', '_classic_test_patch', 'bmh', 'classic', 'dark_background', 'fast', 'fivethirtyeight', 'ggplot', 'grayscale', 'seaborn', 'seaborn-bright', 'seaborn-colorblind', 'seaborn-dark', 'seaborn-dark-palette', 'seaborn-darkgrid', 'seaborn-deep', 'seaborn-muted', 'seaborn-notebook', 'seaborn-paper', 'seaborn-pastel', 'seaborn-poster', 'seaborn-talk', 'seaborn-ticks', 'seaborn-white', 'seaborn-whitegrid', 'tableau-colorblind10']\n",
      "['fmf', 'greedy-adaptive-knn', 'greedy-adaptive-mf', 'greedy-adaptive-ppr-collab', 'greedy-adaptive-ppr-joint', 'greedy-adaptive-ppr-kg', 'greedy-adaptive-ppr-linear-learned', 'lrmf', 'melu'] [0.2048821548821549, 0.23283403656821375, 0.27034202787367345, 0.17320110386566082, 0.15933363167540382, 0.09157556578442654, 0.14513276222136984, 0.20642905851766613, 0.2614593189276734] [0.0, 0.024952689950214324, 0.028855101222352093, 0.028026602629055833, 0.018886645620876538, 0.019384736490335022, 0.09020688485536864, 0.027548632801259087, 0.02379879375559364]\n",
      "['fmf-rec', 'greedy-adaptive-knn-rec', 'greedy-adaptive-mf-rec', 'greedy-adaptive-ppr-collab-rec', 'greedy-adaptive-ppr-joint-rec', 'greedy-adaptive-ppr-kg-rec', 'greedy-adaptive-ppr-linear-learned-rec', 'lrmf-rec', 'melu-rec'] [0.20387205387205387, 0.029848484848484846, 0.262336764267144, 0.17042172782679113, 0.11673986702467715, 0.047857690832374386, 0.16189330008950262, 0.2062160635894813, 0.24319130119763033] [0.0, 0.012413893018676726, 0.022783115881671246, 0.02759075513949031, 0.009046921667311315, 0.01834177318266192, 0.04492871101794344, 0.026973387615956627, 0.04993235964976494]\n"
     ],
     "output_type": "stream"
    },
    {
     "name": "stderr",
     "text": [
      "/home/anders/Code/cold-start-framework/.venv/lib/python3.8/site-packages/numpy/core/fromnumeric.py:3583: RuntimeWarning: Degrees of freedom <= 0 for slice\n",
      "  return _methods._var(a, axis=axis, dtype=dtype, out=out, ddof=ddof,\n",
      "/home/anders/Code/cold-start-framework/.venv/lib/python3.8/site-packages/numpy/core/_methods.py:209: RuntimeWarning: invalid value encountered in double_scalars\n",
      "  ret = ret.dtype.type(ret / rcount)\n"
     ],
     "output_type": "stream"
    },
    {
     "data": {
      "text/plain": "<Figure size 576x360 with 1 Axes>",
      "image/png": "[encoded data removed]"
     },
     "metadata": {
      "needs_background": "light"
     },
     "output_type": "display_data"
    }
   ],
   "source": [
    "%load_ext autoreload\n",
    "%autoreload 2\n",
    "\n",
    "from requests import get\n",
    "import matplotlib.pyplot as plt\n",
    "import numpy as np\n",
    "from scipy.stats import ttest_ind, ttest_rel\n",
    "\n",
    "plt.rcParams['axes.linewidth'] = 0.8\n",
    "plt.style.use('seaborn-deep')\n",
    "print(plt.style.available)\n",
    "metric = 'tau'\n",
    "cutoff = '3'\n",
    "n_questions = 5\n",
    "significance_level = 0.05\n",
    "experiment = 'separation'\n",
    "interviewer = 'AdaptiveGreedy'\n",
    "sota = {'lrmf', 'fmf', 'melu'}\n",
    "\n",
    "data = get(f'https://mindreader.tech/spectate/results/{experiment}/{metric}/{cutoff}').json()\n",
    "data = {k: v for k, v in data.items() if not 'grid' in k}\n",
    "metric = metric.replace('cov', 'div')  # Hack job :-)\n",
    "\n",
    "#data = get(f'http://localhost:5000/spectate/results/equal/{metric}/{cutoff}').json()\n",
    "\n",
    "\n",
    "def results_len(from_model):\n",
    "    return sum([len(split) for split in [question for question in data[from_model]]])\n",
    "\n",
    "def is_allowed(model):\n",
    "    for allowed in sota:\n",
    "        if allowed in model:\n",
    "            return True\n",
    "    \n",
    "    if interviewer == 'FixedGreedy':\n",
    "        return model.startswith('greedy') and 'adaptive' not in model\n",
    "    elif interviewer == 'FixedPop':\n",
    "        return model.startswith('pop')\n",
    "    elif interviewer == 'AdaptiveGreedy':\n",
    "        return model.startswith('greedy-adaptive')\n",
    "    elif interviewer == 'DQN':\n",
    "        return model.startswith('dqn-')\n",
    "    elif interviewer == 'ddpg':\n",
    "        return model.startswith('ddpg-')\n",
    "    \n",
    "    return False\n",
    "    \n",
    "models = sorted([key for key in data.keys() if key.endswith('-rec') and is_allowed(key)], reverse=False)\n",
    "models = [model for model in models if len(data[model]) >= n_questions]\n",
    "\n",
    "fig, ax = plt.subplots(figsize=(8, 5))\n",
    "ind = np.arange(len(models))\n",
    "\n",
    "width = 0.3\n",
    "\n",
    "# add with rec\n",
    "for idx, (label, to_replace) in enumerate([('DE interview', '-rec'), ('RE interview', '')]):\n",
    "    x = [model.replace(to_replace, '') for model in models]\n",
    "    y = [np.mean(data[model][n_questions - 1]) for model in x]\n",
    "    y_std = [np.std(data[model][n_questions - 1]) for model in x]\n",
    "    \n",
    "    print(x, y, y_std)\n",
    "    ax.bar(ind + idx * width, y, yerr=y_std, width=width, label=label, zorder=3)\n",
    "\n",
    "def get_postfix(model):\n",
    "    re_data = f'{model}-rec'\n",
    "    if re_data not in data:\n",
    "        return ''\n",
    "    \n",
    "    re = data[re_data][n_questions - 1]\n",
    "    de = data[model][n_questions - 1]\n",
    "    \n",
    "    if len(re) == len(de) and ttest_rel(de, re)[1] <= significance_level:\n",
    "        return '*'\n",
    "    \n",
    "    return ''\n",
    "\n",
    "# get best\n",
    "\n",
    "# add statistical significance\n",
    "displays = [model.replace('-rec', '') for model in models]\n",
    "displays = [model.replace('greedy-', '').replace('melu', 'melun').replace('adaptive-', '').replace('pop-', '').replace('-learned', '').upper() + get_postfix(model) for model in displays]\n",
    "displays = [model.upper() for model in displays]\n",
    "\n",
    "ax.set_xticks(ind + width / 2)\n",
    "ax.set_xticklabels(displays)\n",
    "plt.xticks(rotation=25)\n",
    "\n",
    "bottom, top = ax.yaxis.get_data_interval()\n",
    "\n",
    "#plt.ylim([0.02, top * 1.05])\n",
    "\n",
    "if metric == 'tau':\n",
    "    plt.ylabel('τ')\n",
    "else:\n",
    "    plt.ylabel(f'{metric.upper()}@{cutoff}')\n",
    "plt.title(f'{n_questions}-length interview')\n",
    "plt.legend(loc='upper left')\n",
    "plt.grid(True, zorder=0)\n",
    "plt.savefig(f'output/{experiment}_{interviewer.lower()}_{metric}{cutoff}_re_vs_de.pdf', bbox_inches='tight')\n",
    "plt.show()"
   ]
  },
  {
   "cell_type": "code",
   "execution_count": 53,
   "outputs": [
    {
     "name": "stdout",
     "text": [
      "lrmf-rec: 0.2062160635894813\n",
      "greedy-adaptive-mf: 0.27034202787367345\n",
      "lrmf-rec vs. greedy-adaptive-mf: 1.3649%*\n",
      "\n",
      "melu-rec: 0.24319130119763033\n",
      "greedy-adaptive-mf: 0.27034202787367345\n",
      "melu-rec vs. greedy-adaptive-mf: 11.5005%None\n",
      "\n",
      "melu-rec: 0.24319130119763033\n",
      "greedy-adaptive-mf: 0.27034202787367345\n",
      "melu-rec vs. greedy-adaptive-mf: 11.5005%None\n",
      "\n"
     ],
     "output_type": "stream"
    }
   ],
   "source": [
    "def get_best(json_data, questions):\n",
    "    de_models = [model.replace('-rec', '') for model in models]\n",
    "    de_models = [model for model in de_models if model not in sota]\n",
    "    \n",
    "    return max(de_models, key=lambda key: np.mean(json_data[key][questions - 1]) if len(json_data[key]) >= n_questions else 0)\n",
    "\n",
    "def compare_significance(model_a, model_b):\n",
    "    data_a = data[model_a][n_questions - 1]\n",
    "    data_b = data[model_b][n_questions - 1]\n",
    "    \n",
    "    print(f'{model_a}: {np.mean(data_a)}')\n",
    "    print(f'{model_b}: {np.mean(data_b)}')\n",
    "\n",
    "    t, p = ttest_rel(data_a, data_b)\n",
    "    print(f'{model_a} vs. {model_b}: {p * 100:.4f}%{\"*\" if p <= significance_level else None}')\n",
    "\n",
    "compare_significance('lrmf-rec', get_best(data, 5))\n",
    "print()\n",
    "compare_significance('melu-rec', get_best(data, 10))\n",
    "print()\n",
    "compare_significance('melu-rec', get_best(data, 10))\n",
    "print()"
   ],
   "metadata": {
    "collapsed": false,
    "pycharm": {
     "name": "#%%\n",
     "is_executing": false
    }
   }
  }
 ],
 "metadata": {
  "kernelspec": {
   "display_name": "Python 3",
   "language": "python",
   "name": "python3"
  },
  "language_info": {
   "codemirror_mode": {
    "name": "ipython",
    "version": 2
   },
   "file_extension": ".py",
   "mimetype": "text/x-python",
   "name": "python",
   "nbconvert_exporter": "python",
   "pygments_lexer": "ipython2",
   "version": "2.7.6"
  },
  "pycharm": {
   "stem_cell": {
    "cell_type": "raw",
    "source": [],
    "metadata": {
     "collapsed": false
    }
   }
  }
 },
 "nbformat": 4,
 "nbformat_minor": 0
}