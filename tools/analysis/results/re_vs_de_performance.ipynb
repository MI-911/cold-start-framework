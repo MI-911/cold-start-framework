{
 "cells": [
  {
   "cell_type": "code",
   "execution_count": 150,
   "metadata": {
    "collapsed": true,
    "pycharm": {
     "is_executing": false
    }
   },
   "outputs": [
    {
     "name": "stdout",
     "text": [
      "['Solarize_Light2', '_classic_test_patch', 'bmh', 'classic', 'dark_background', 'fast', 'fivethirtyeight', 'ggplot', 'grayscale', 'seaborn', 'seaborn-bright', 'seaborn-colorblind', 'seaborn-dark', 'seaborn-dark-palette', 'seaborn-darkgrid', 'seaborn-deep', 'seaborn-muted', 'seaborn-notebook', 'seaborn-paper', 'seaborn-pastel', 'seaborn-poster', 'seaborn-talk', 'seaborn-ticks', 'seaborn-white', 'seaborn-whitegrid', 'tableau-colorblind10']\n",
      "['greedy-ppr-kg', 'greedy-ppr-joint', 'greedy-ppr-collab'] [0.08267337555029877, 0.09597974639225279, 0.07453364131695989] [0.006224556530126558, 0.006099037603141662, 0.009747911041322643]\n",
      "['greedy-ppr-kg-rec', 'greedy-ppr-joint-rec', 'greedy-ppr-collab-rec'] [0.06628953808440705, 0.07573051475520291, 0.06591904531077393] [0.0060304516375019315, 0.00739908862713891, 0.0073310623871891125]\n",
      "[0.12137154045602874, 0.11071144205818546, 0.09520108438691584, 0.10466526902915974]\n",
      "[0.09456999039164934, 0.08491286560951347, 0.0844541017235356, 0.07885310246044387]\n",
      "[0.07060030030799205, 0.07097656955138136, 0.05611462559259463, 0.06746665688566014]\n",
      "[0.09056552069320344, 0.08694010970833144, 0.07712791517264275, 0.07605995662701745]\n",
      "[0.0769050520498735, 0.07868915217521967, 0.08367170962466314, 0.06365614517105532]\n",
      "[0.10650433453495223, 0.0916290584936336, 0.09275301812174885, 0.09303257441867649]\n",
      "[0.07835965446935951, 0.06282531752962386, 0.06311053080517535, 0.059380678438936976]\n",
      "[0.08809057787912156, 0.06965688641791296, 0.06198255071284227, 0.07840455025796275]\n"
     ],
     "output_type": "stream"
    },
    {
     "data": {
      "text/plain": "<Figure size 1296x360 with 1 Axes>",
      "image/png": "[encoded data removed]"
     },
     "metadata": {},
     "output_type": "display_data"
    }
   ],
   "source": [
    "from requests import get\n",
    "import matplotlib.pyplot as plt\n",
    "import numpy as np\n",
    "from scipy.stats import ttest_ind, ttest_rel\n",
    "\n",
    "plt.rcParams['font.sans-serif'] = 'Helvetica'\n",
    "plt.rcParams['axes.linewidth'] = 0.8\n",
    "plt.style.use('seaborn')\n",
    "print(plt.style.available)\n",
    "metric = 'ndcg'\n",
    "cutoff = '10'\n",
    "n_questions = 5\n",
    "significance_level = 0.05\n",
    "\n",
    "#data = get(f'https://mindreader.tech/spectate/results/170k_equal_20/{metric}/{cutoff}').json()\n",
    "data = get(f'http://localhost:5000/spectate/results/test_equal/{metric}/{cutoff}').json()\n",
    "\n",
    "models = sorted([key for key in data.keys() if key.endswith('-rec')], reverse=True)\n",
    "\n",
    "fig, ax = plt.subplots(figsize=(18, 5))\n",
    "ind = np.arange(len(models))\n",
    "\n",
    "width = 0.15\n",
    "\n",
    "# add with rec\n",
    "for idx, (label, to_replace) in enumerate([('DE interview', '-rec'), ('RE interview', '')]):\n",
    "    x = [model.replace(to_replace, '') for model in models]\n",
    "    y = [np.mean(data[model][n_questions - 1]) for model in x]\n",
    "    y_std = [np.std(data[model][n_questions - 1]) for model in x]\n",
    "    \n",
    "    print(x, y, y_std)\n",
    "    ax.bar(ind + idx * width, y, yerr=y_std, width=width, label=label)\n",
    "\n",
    "print(data['greedy-ppr-joint'][9])\n",
    "print(data['greedy-ppr-joint-rec'][9])\n",
    "\n",
    "def get_postfix(model):\n",
    "    re_data = f'{model}-rec'\n",
    "    if re_data not in data:\n",
    "        return ''\n",
    "    \n",
    "    re = data[re_data][n_questions - 1]\n",
    "    de = data[model][n_questions - 1]\n",
    "    \n",
    "    print(re)\n",
    "    print(de)\n",
    "    \n",
    "    t, p_value = ttest_rel(re, de)\n",
    "    if p_value <= significance_level:\n",
    "        return '*'\n",
    "    \n",
    "    return ''\n",
    "        \n",
    "# add statistical significance\n",
    "models = [model.replace('-rec', '') for model in models]\n",
    "models = [model.replace('greedy-', '').upper() + get_postfix(model) for model in models]\n",
    "\n",
    "\n",
    "ax.set_xticks(ind + width / 2)\n",
    "ax.set_xticklabels([model.replace('-rec', '').replace('greedy-', '').upper() for model in models])\n",
    "plt.ylabel(f'{metric.upper()}@{cutoff}')\n",
    "plt.title(f'{n_questions}-length interview')\n",
    "plt.legend(loc='upper left')\n",
    "plt.savefig('re_vs_de.pdf', bbox_inches='tight')\n",
    "plt.show()"
   ]
  },
  {
   "cell_type": "code",
   "execution_count": 150,
   "outputs": [],
   "source": [
    "\n"
   ],
   "metadata": {
    "collapsed": false,
    "pycharm": {
     "name": "#%%\n",
     "is_executing": false
    }
   }
  }
 ],
 "metadata": {
  "kernelspec": {
   "display_name": "Python 3",
   "language": "python",
   "name": "python3"
  },
  "language_info": {
   "codemirror_mode": {
    "name": "ipython",
    "version": 2
   },
   "file_extension": ".py",
   "mimetype": "text/x-python",
   "name": "python",
   "nbconvert_exporter": "python",
   "pygments_lexer": "ipython2",
   "version": "2.7.6"
  },
  "pycharm": {
   "stem_cell": {
    "cell_type": "raw",
    "source": [],
    "metadata": {
     "collapsed": false
    }
   }
  }
 },
 "nbformat": 4,
 "nbformat_minor": 0
}